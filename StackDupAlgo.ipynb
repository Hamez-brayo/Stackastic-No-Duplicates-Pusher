{
  "nbformat": 4,
  "nbformat_minor": 0,
  "metadata": {
    "colab": {
      "provenance": [],
      "authorship_tag": "ABX9TyN+/MMQoNqGgn7MbXSq8eE4",
      "include_colab_link": true
    },
    "kernelspec": {
      "name": "python3",
      "display_name": "Python 3"
    },
    "language_info": {
      "name": "python"
    }
  },
  "cells": [
    {
      "cell_type": "markdown",
      "metadata": {
        "id": "view-in-github",
        "colab_type": "text"
      },
      "source": [
        "<a href=\"https://colab.research.google.com/github/Hamez-brayo/Stackastic-No-Duplicates-Pusher/blob/main/StackDupAlgo.ipynb\" target=\"_parent\"><img src=\"https://colab.research.google.com/assets/colab-badge.svg\" alt=\"Open In Colab\"/></a>"
      ]
    },
    {
      "cell_type": "code",
      "execution_count": 1,
      "metadata": {
        "id": "2SmaWFXUFcX9"
      },
      "outputs": [],
      "source": [
        "class Stack:\n",
        "    def __init__(self):# we initialize the items attribute as an empty list to hold the elements of the stack.\n",
        "        self.items = []\n",
        "\n",
        "    def is_empty(self): # checks if the stack is empty by returning True if self.items is an empty list, and False otherwise.\n",
        "        return self.items == []\n",
        "\n",
        "    def push(self, item):# adds an item to the top of the stack by appending it to the items list.\n",
        "        self.items.append(item)\n",
        "\n",
        "    def pop(self):# removes and returns the item at the top of the stack. It raises an IndexError if the stack is empty.\n",
        "        if not self.is_empty():\n",
        "            return self.items.pop()\n",
        "        else:\n",
        "            raise IndexError(\"Pop from an empty stack\")\n",
        "\n",
        "    def peek(self): # returns the item at the top of the stack without removing it. It raises an IndexError if the stack is empty.\n",
        "        if not self.is_empty():\n",
        "            return self.items[-1]\n",
        "        else:\n",
        "            raise IndexError(\"Peek from an empty stack\")\n",
        "\n",
        "    def size(self): #returns the number of elements in the stack.\n",
        "        return len(self.items)"
      ]
    },
    {
      "cell_type": "markdown",
      "source": [
        "Method to check for duplicates"
      ],
      "metadata": {
        "id": "1HDLeEhRIxK8"
      }
    },
    {
      "cell_type": "code",
      "source": [
        "# Algorithm steps:\n",
        "# 1. Check if the item is already present in the stack.\n",
        "# 2. If the item is not present, push it onto the stack.\n",
        "# 3. If the item is already present, raise an error.\n",
        "def add_to_stack_no_duplicates(stack, item): # takes a stack and an item as input.\n",
        "\n",
        "    if item in stack.items:\n",
        "        raise ValueError(\"Item already exists in the stack\")\n",
        "    else:\n",
        "        stack.push(item)\n"
      ],
      "metadata": {
        "id": "Bm0lsEVLGlz7"
      },
      "execution_count": 11,
      "outputs": []
    },
    {
      "cell_type": "markdown",
      "source": [
        "Demonstration"
      ],
      "metadata": {
        "id": "gEwIIZmoICW8"
      }
    },
    {
      "cell_type": "code",
      "source": [
        "# Demonstration\n",
        "stack = Stack()\n",
        "add_to_stack_no_duplicates(stack, 5)\n",
        "add_to_stack_no_duplicates(stack, 3)\n",
        "print(\"Stack after adding 5 and 3:\", stack.items)\n"
      ],
      "metadata": {
        "colab": {
          "base_uri": "https://localhost:8080/"
        },
        "id": "cgMst5pBHm6z",
        "outputId": "fb63559f-c50f-4ab3-f5a3-570d442dfde3"
      },
      "execution_count": 12,
      "outputs": [
        {
          "output_type": "stream",
          "name": "stdout",
          "text": [
            "Stack after adding 5 and 3: [5, 3]\n"
          ]
        }
      ]
    },
    {
      "cell_type": "code",
      "source": [
        "try:\n",
        "    add_to_stack_no_duplicates(stack, 3)  # Trying to add duplicate value\n",
        "except ValueError as e:\n",
        "    print(\"Error:\", e)\n",
        "print(\"Stack after trying to add duplicate value:\", stack.items)"
      ],
      "metadata": {
        "colab": {
          "base_uri": "https://localhost:8080/"
        },
        "id": "oaG4FXcMH8pw",
        "outputId": "bd6fc3aa-8eda-441d-827e-12fbdc9dc5b4"
      },
      "execution_count": 13,
      "outputs": [
        {
          "output_type": "stream",
          "name": "stdout",
          "text": [
            "Error: Item already exists in the stack\n",
            "Stack after trying to add duplicate value: [5, 3]\n"
          ]
        }
      ]
    }
  ]
}